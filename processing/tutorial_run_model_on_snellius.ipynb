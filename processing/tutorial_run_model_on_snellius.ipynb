{
 "cells": [
  {
   "cell_type": "markdown",
   "metadata": {},
   "source": [
    "## Launch the STEMMUS_SCOPE model\n",
    "Steps to run the STEMMUS_SCOPE model, including preprocessing and postprocessing, on Surf super computer Snellius."
   ]
  },
  {
   "cell_type": "code",
   "execution_count": 1,
   "metadata": {},
   "outputs": [],
   "source": [
    "import numpy as np\n",
    "from pathlib import Path\n",
    "import subprocess"
   ]
  },
  {
   "cell_type": "markdown",
   "metadata": {},
   "source": [
    "#### Create an executable file of STEMMUS_SCOPE"
   ]
  },
  {
   "cell_type": "code",
   "execution_count": 2,
   "metadata": {},
   "outputs": [
    {
     "name": "stdout",
     "output_type": "stream",
     "text": [
      "success!\n"
     ]
    }
   ],
   "source": [
    "# path to executable\n",
    "root_path = Path().resolve().parent\n",
    "# submit slurm job\n",
    "result = subprocess.run([\"sbatch\", Path(root_path, \"exe\", \"build_stemmus_scope_exe.sh\")])\n",
    "result.check_returncode()"
   ]
  },
  {
   "cell_type": "markdown",
   "metadata": {},
   "source": [
    "#### Update/set config files"
   ]
  },
  {
   "cell_type": "code",
   "execution_count": 10,
   "metadata": {},
   "outputs": [
    {
     "name": "stdout",
     "output_type": "stream",
     "text": [
      "SoilPropertyPath\n",
      "InputPath\n"
     ]
    }
   ],
   "source": [
    "# the user must provide the correct path\n",
    "path_dict = {\n",
    "    \"SoilPropertyPath\": \"/data/shared/EcoExtreML/STEMMUS_SCOPEv1.0.0/input/SoilProperty/\",\n",
    "    \"InputPath\": \"/data/shared/EcoExtreML/STEMMUS_SCOPEv1.0.0/input/\"\n",
    "}\n",
    "\n",
    "# generate a text file\n",
    "with open(Path(root_path, \"config_file_snellius_test.txt\"), 'w') as f:\n",
    "    for i in path_dict.keys():\n",
    "        print(i)\n",
    "        f.write((i + \"=\" + path_dict[i] + \"\\n\"))\n"
   ]
  }
 ],
 "metadata": {
  "interpreter": {
   "hash": "28b136f154b3384fcb2854e5626613232692c304dbc5315064ef4c9363104a2c"
  },
  "kernelspec": {
   "display_name": "Python 3.9.12 ('stemmus')",
   "language": "python",
   "name": "python3"
  },
  "language_info": {
   "codemirror_mode": {
    "name": "ipython",
    "version": 3
   },
   "file_extension": ".py",
   "mimetype": "text/x-python",
   "name": "python",
   "nbconvert_exporter": "python",
   "pygments_lexer": "ipython3",
   "version": "3.9.12"
  },
  "orig_nbformat": 4
 },
 "nbformat": 4,
 "nbformat_minor": 2
}
