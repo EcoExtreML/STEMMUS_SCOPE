{
 "cells": [
  {
   "cell_type": "markdown",
   "metadata": {},
   "source": [
    "# Dowenload era5 land using era5cli\n",
    "\n",
    "This notebook shows how to download [era5 land data](https://climate.copernicus.eu/) using [era5cli](https://era5cli.readthedocs.io/en/latest/index.html) for 170 sites. More specifically, at each site:\n",
    "\n",
    "- it gets the location of the site\n",
    "- it checks the site location against ERA5 land sea mask\n",
    "- it gets the starting time of forcing data \n",
    "- it donwloads 9 variables at one location and one time  "
   ]
  },
  {
   "cell_type": "code",
   "execution_count": 1,
   "metadata": {},
   "outputs": [],
   "source": [
    "# import python libraries\n",
    "from netCDF4 import Dataset, num2date\n",
    "from pathlib import Path\n",
    "import xarray as xr\n",
    "import numpy as np"
   ]
  },
  {
   "cell_type": "markdown",
   "metadata": {},
   "source": [
    "## Settings\n",
    "\n",
    "Run these the cell below only once for:\n",
    "\n",
    "1- setting cds keys to access data\n",
    "\n",
    "2- installing era5cli to download data"
   ]
  },
  {
   "cell_type": "code",
   "execution_count": null,
   "metadata": {},
   "outputs": [],
   "source": [
    "# Create a key ascii file\n",
    "!echo \"url: https://cds.climate.copernicus.eu/api/v2\" > ~/.cdsapirc \n",
    "\n",
    "# Replace UID with your user ID and KEY with your API key\n",
    "!echo \"key: UID:KEY\" >> ~/.cdsapirc\n",
    "\n",
    "# install era5cli\n",
    "!pip install era5cli"
   ]
  },
  {
   "cell_type": "markdown",
   "metadata": {},
   "source": [
    "## Path to land sea mask and forcing data\n",
    "\n",
    "ERA5-land provides `land_sea mask`. If you click on [land_sea mask](https://confluence.ecmwf.int/download/attachments/140385202/lsm_1279l4_0.1x0.1.grb_v4_unpack.nc?version=1&modificationDate=1591979822208&api=v2), a netcdf file will be donwloaded. See [documentation](https://confluence.ecmwf.int/display/FUG/Land-Sea+Mask). \n",
    "Download `land_sea mask` file and set the path to the file."
   ]
  },
  {
   "cell_type": "code",
   "execution_count": 2,
   "metadata": {},
   "outputs": [],
   "source": [
    "# Path to land_sea mask file\n",
    "land_sea_filename = Path(\"./lsm_1279l4_0.1x0.1.grb_v4_unpack.nc\")"
   ]
  },
  {
   "cell_type": "code",
   "execution_count": 3,
   "metadata": {},
   "outputs": [],
   "source": [
    "# path to forcing data, for example on CRIB data are located at:\n",
    "forcing_path = Path(\"/data/shared/EcoExtreML/STEMMUS_SCOPEv1.0.0/input/Plumber2_data/\")"
   ]
  },
  {
   "cell_type": "markdown",
   "metadata": {},
   "source": [
    "## Functions to select data in era5-land "
   ]
  },
  {
   "cell_type": "code",
   "execution_count": 4,
   "metadata": {},
   "outputs": [],
   "source": [
    "def find_nearest_ERA5_land_point(\n",
    "    lsm_dataset,\n",
    "    point_longitude,\n",
    "    point_latitude,\n",
    "    padding,\n",
    "):\n",
    "    \"\"\"Find nearest grid cell in land see mask to a point based on Geographical distances.\n",
    "    args:\n",
    "        lsm_dataset: ERA5 land sea mask dataset\n",
    "        point_longitude: longitude in degrees of target coordinate\n",
    "        point_latitude: latitude in degrees of target coordinate\n",
    "        padding: bounding box around the point\n",
    "    returns:\n",
    "        longitude: longitude of closest grid cell\n",
    "        latitude: latitude of closest grid cell\n",
    "    \"\"\"\n",
    "    # create a bounding_box \n",
    "    lat_max = point_latitude + padding\n",
    "    lat_min = point_latitude - padding\n",
    "    lon_max = point_longitude + padding\n",
    "    lon_min = point_longitude - padding\n",
    "\n",
    "    lsm_lon = lsm_dataset[\"longitude\"].values\n",
    "    lsm_lat = lsm_dataset[\"latitude\"].values\n",
    "    longitudes = lsm_lon[(lsm_lon >= lon_min) & (lsm_lon <= lon_max)]\n",
    "    latitudes = lsm_lat[(lsm_lat >= lat_min) & (lsm_lat <= lat_max)]\n",
    "    bounding_box = lsm_dataset.sel(longitude=longitudes, latitude=latitudes)\n",
    "\n",
    "    grid_longitudes_array = np.array(bounding_box[\"longitude\"].values)\n",
    "    grid_latitudes_array = np.array(bounding_box[\"latitude\"].values)\n",
    "\n",
    "    # Create a grid from coordinates (shape will be (nlat, nlon))\n",
    "    lon_vectors, lat_vectors = np.meshgrid(grid_longitudes_array, grid_latitudes_array)\n",
    "\n",
    "    # calculate distanced\n",
    "    distances = geographical_distances(\n",
    "        point_longitude, point_latitude, lon_vectors, lat_vectors\n",
    "    )\n",
    "\n",
    "    # mask distances where they are on sea: values less than 0.6\n",
    "    masked_distances = xr.where(bounding_box >= 0.6, distances, np.nan)\n",
    "\n",
    "    # find the nearest on land\n",
    "    index = np.nanargmin(masked_distances[\"lsm\"].to_numpy())\n",
    "    idx_lat, idx_lon = np.unravel_index(index, distances.shape)\n",
    "    \n",
    "    selected_grid = bounding_box.isel(longitude=int(idx_lon), latitude=int(idx_lat))\n",
    "    \n",
    "    return selected_grid[\"longitude\"].values, selected_grid[\"latitude\"].values\n",
    "\n",
    "\n",
    "def geographical_distances(\n",
    "    point_longitude,\n",
    "    point_latitude,\n",
    "    lon_vectors,\n",
    "    lat_vectors,\n",
    "    radius=6373.0,\n",
    "):\n",
    "    \"\"\"It uses Spherical Earth projected to a plane formula:\n",
    "    https://en.wikipedia.org/wiki/Geographical_distance\n",
    "    args:\n",
    "        point_longitude: longitude in degrees of target coordinate\n",
    "        point_latitude: latitude in degrees of target coordinate\n",
    "        lon_vectors: 1d array of longitudes in degrees\n",
    "        lat_vectors: 1d array of latitudes in degrees\n",
    "        radius: Radius of a sphere in km. Default is Earths approximate radius.\n",
    "    returns:\n",
    "        distances: array of geographical distance of point to all vector members\n",
    "    \"\"\"\n",
    "    dlon = np.radians(lon_vectors - point_longitude)\n",
    "    dlat = np.radians(lat_vectors - point_latitude)\n",
    "    latm = np.radians((lat_vectors + point_latitude) / 2)\n",
    "    return radius * np.sqrt(dlat**2 + (np.cos(latm) * dlon) ** 2)\n",
    "\n",
    "\n",
    "def convert_lon(ds, lon_name):\n",
    "    \"\"\"Adjust lon values to make sure they are within (-180, 180).\n",
    "    args: \n",
    "        ds: xarray dataset\n",
    "        lon_name: whatever name is in the data\n",
    "    returns: \n",
    "        ds: xarray dataset\n",
    "    \"\"\"\n",
    "    ds['_longitude_adjusted'] = xr.where(\n",
    "        ds[lon_name] > 180,\n",
    "        ds[lon_name] - 360,\n",
    "        ds[lon_name])\n",
    "\n",
    "    # reassign the new coords to as the main lon coords\n",
    "    # and sort DataArray using new coordinate values\n",
    "    ds = (\n",
    "        ds\n",
    "        .swap_dims({lon_name: '_longitude_adjusted'})\n",
    "        .sel(**{'_longitude_adjusted': sorted(ds._longitude_adjusted)})\n",
    "        .drop(lon_name))\n",
    "\n",
    "    ds = ds.rename({'_longitude_adjusted': lon_name})\n",
    "    return ds\n",
    "\n",
    "\n",
    "def get_forcing_info(ds):\n",
    "    \n",
    "    lon = forcing[\"longitude\"].values.flatten()[0]\n",
    "    lat = forcing[\"latitude\"].values.flatten()[0]\n",
    "    time = forcing[\"time\"].dt\n",
    "    return lon, lat, time\n",
    "    "
   ]
  },
  {
   "cell_type": "markdown",
   "metadata": {},
   "source": [
    "## Get site information and check it against land sea mask"
   ]
  },
  {
   "cell_type": "code",
   "execution_count": 5,
   "metadata": {},
   "outputs": [],
   "source": [
    "# Open land sea mask data and convert the longitude values\n",
    "# In forcing data lon (-180, 180) and lat (-90, 90)\n",
    "# In land sea mask lon (0, 360) and lat (-90, 90)\n",
    "lsm = xr.open_dataset(land_sea_filename)\n",
    "lsm_dataset = convert_lon(lsm, 'longitude')"
   ]
  },
  {
   "cell_type": "code",
   "execution_count": 17,
   "metadata": {},
   "outputs": [
    {
     "name": "stdout",
     "output_type": "stream",
     "text": [
      "-0.31881 39.34597\n"
     ]
    }
   ],
   "source": [
    "# Choose a site and get forcing information like location and strating time\n",
    "forcing_name = \"ES-ES1_1999-2006_LaThuile_Met.nc\"\n",
    "forcing = xr.open_dataset(forcing_path / forcing_name)\n",
    "lon, lat, time =  get_forcing_info(forcing)\n",
    "print(lon, lat)"
   ]
  },
  {
   "cell_type": "code",
   "execution_count": 7,
   "metadata": {},
   "outputs": [
    {
     "name": "stdout",
     "output_type": "stream",
     "text": [
      "-0.3999939 39.3\n"
     ]
    }
   ],
   "source": [
    "# check the site location againts land sea mask \n",
    "nearest_lon, nearest_lat = find_nearest_ERA5_land_point(lsm_dataset, lon, lat, 0.2)\n",
    "print(nearest_lon, nearest_lat)"
   ]
  },
  {
   "cell_type": "markdown",
   "metadata": {},
   "source": [
    "## Prepare required information for era5cli command line"
   ]
  },
  {
   "cell_type": "code",
   "execution_count": 18,
   "metadata": {},
   "outputs": [],
   "source": [
    "# starting time\n",
    "startyear = time.year.values[0]\n",
    "endyear = startyear\n",
    "startmonth = time.month.values[0]\n",
    "startday = time.day.values[0]\n",
    "starthour = time.hour.values[0]\n",
    "\n",
    "# create area, note that era5 resolution is 0.1\n",
    "# and we want only one grid cell\n",
    "lat_max = nearest_lat + 0.001\n",
    "lat_min = nearest_lat - 0.001\n",
    "lon_max = nearest_lon + 0.001\n",
    "lon_min = nearest_lon - 0.001\n",
    "\n",
    "# create prefix for file name\n",
    "station_name = forcing_name.split('_')[0]\n",
    "timestamp = time.strftime('%Y%m%d_%H').values[0]\n",
    "file_name = f\"{station_name}_{timestamp}\""
   ]
  },
  {
   "cell_type": "markdown",
   "metadata": {},
   "source": [
    "## Test the download command line using --dryrun\n",
    "The cell below makes sure that the command line works correctly. It only shows what ERA5cli command-line will return. It does **not** download any data. "
   ]
  },
  {
   "cell_type": "code",
   "execution_count": 16,
   "metadata": {},
   "outputs": [
    {
     "name": "stdout",
     "output_type": "stream",
     "text": [
      "NB: coordinates [39.300999237060545, -0.400993896484375, 39.29899923706055, -0.398993896484375] rounded down to two decimals.\n",
      "\n",
      "NB: coordinates [39.300999237060545, -0.400993896484375, 39.29899923706055, -0.398993896484375] rounded down to two decimals.\n",
      "\n",
      "NB: coordinates [39.300999237060545, -0.400993896484375, 39.29899923706055, -0.398993896484375] rounded down to two decimals.\n",
      "\n",
      "NB: coordinates [39.300999237060545, -0.400993896484375, 39.29899923706055, -0.398993896484375] rounded down to two decimals.\n",
      "\n",
      "NB: coordinates [39.300999237060545, -0.400993896484375, 39.29899923706055, -0.398993896484375] rounded down to two decimals.\n",
      "reanalysis-era5-land {'variable': 'soil_temperature_level_1', 'year': [1999], 'month': ['01'], 'time': ['00:00'], 'format': 'netcdf', 'area': [39.3, -0.4, 39.3, -0.4], 'day': ['01']} ES-ES1_19990101_00-land_soil_temperature_level_1_1999_hourly_0E-0E_39N-39N.nc\n",
      "reanalysis-era5-land {'variable': 'volumetric_soil_water_layer_2', 'year': [1999], 'month': ['01'], 'time': ['00:00'], 'format': 'netcdf', 'area': [39.3, -0.4, 39.3, -0.4], 'day': ['01']} ES-ES1_19990101_00-land_volumetric_soil_water_layer_2_1999_hourly_0E-0E_39N-39N.nc\n",
      "reanalysis-era5-land {'variable': 'soil_temperature_level_2', 'year': [1999], 'month': ['01'], 'time': ['00:00'], 'format': 'netcdf', 'area': [39.3, -0.4, 39.3, -0.4], 'day': ['01']} ES-ES1_19990101_00-land_soil_temperature_level_2_1999_hourly_0E-0E_39N-39N.nc\n",
      "NB: coordinates [39.300999237060545, -0.400993896484375, 39.29899923706055, -0.398993896484375] rounded down to two decimals.\n",
      "NB: coordinates [39.300999237060545, -0.400993896484375, 39.29899923706055, -0.398993896484375] rounded down to two decimals.\n",
      "\n",
      "reanalysis-era5-land {'variable': 'soil_temperature_level_4', 'year': [1999], 'month': ['01'], 'time': ['00:00'], 'format': 'netcdf', 'area': [39.3, -0.4, 39.3, -0.4], 'day': ['01']} ES-ES1_19990101_00-land_soil_temperature_level_4_1999_hourly_0E-0E_39N-39N.nc\n",
      "\n",
      "\n",
      "NB: coordinates [39.300999237060545, -0.400993896484375, 39.29899923706055, -0.398993896484375] rounded down to two decimals.\n",
      "\n",
      "reanalysis-era5-land {'variable': 'soil_temperature_level_3', 'year': [1999], 'month': ['01'], 'time': ['00:00'], 'format': 'netcdf', 'area': [39.3, -0.4, 39.3, -0.4], 'day': ['01']} ES-ES1_19990101_00-land_soil_temperature_level_3_1999_hourly_0E-0E_39N-39N.nc\n",
      "NB: coordinates [39.300999237060545, -0.400993896484375, 39.29899923706055, -0.398993896484375] rounded down to two decimals.\n",
      "\n",
      "reanalysis-era5-land {'variable': 'volumetric_soil_water_layer_3', 'year': [1999], 'month': ['01'], 'time': ['00:00'], 'format': 'netcdf', 'area': [39.3, -0.4, 39.3, -0.4], 'day': ['01']} ES-ES1_19990101_00-land_volumetric_soil_water_layer_3_1999_hourly_0E-0E_39N-39N.nc\n",
      "reanalysis-era5-land {'variable': 'volumetric_soil_water_layer_4', 'year': [1999], 'month': ['01'], 'time': ['00:00'], 'format': 'netcdf', 'area': [39.3, -0.4, 39.3, -0.4], 'day': ['01']} ES-ES1_19990101_00-land_volumetric_soil_water_layer_4_1999_hourly_0E-0E_39N-39N.nc\n",
      "reanalysis-era5-land {'variable': 'volumetric_soil_water_layer_1', 'year': [1999], 'month': ['01'], 'time': ['00:00'], 'format': 'netcdf', 'area': [39.3, -0.4, 39.3, -0.4], 'day': ['01']} ES-ES1_19990101_00-land_volumetric_soil_water_layer_1_1999_hourly_0E-0E_39N-39N.nc\n",
      "reanalysis-era5-land {'variable': 'skin_temperature', 'year': [1999], 'month': ['01'], 'time': ['00:00'], 'format': 'netcdf', 'area': [39.3, -0.4, 39.3, -0.4], 'day': ['01']} ES-ES1_19990101_00-land_skin_temperature_1999_hourly_0E-0E_39N-39N.nc\n"
     ]
    }
   ],
   "source": [
    "# Run era5cli for variables soil_temperature and volumetric_soil_water at four levels and skin_temperature\n",
    "!era5cli hourly --variables soil_temperature_level_1 soil_temperature_level_2 soil_temperature_level_3 soil_temperature_level_4 \\\n",
    "volumetric_soil_water_layer_1 volumetric_soil_water_layer_2 volumetric_soil_water_layer_3 volumetric_soil_water_layer_4 skin_temperature \\\n",
    "--startyear {startyear} --endyear {endyear} --land \\\n",
    "--area {lat_max} {lon_min} {lat_min} {lon_max} \\\n",
    "--months {startmonth} --days {startday} --hours {starthour} --outputprefix {file_name} --dryrun --merge"
   ]
  },
  {
   "cell_type": "markdown",
   "metadata": {},
   "source": [
    "## Download data\n",
    "\n",
    "The cell below downloads data. You can specify the name of forcing files or download data at all 170 sites. "
   ]
  },
  {
   "cell_type": "code",
   "execution_count": null,
   "metadata": {},
   "outputs": [],
   "source": [
    "## specify the forcing file names or set fullrun = True\n",
    "forcing_filenames_list = [\"AR-SLu_2010-2010_FLUXNET2015_Met.nc\", \"AU-ASM_2011-2017_OzFlux_Met.nc\"]\n",
    "\n",
    "## if you want to download all 170 sites, change fullrun = False to fullrun = True\n",
    "fullrun = False\n",
    "if fullrun:\n",
    "    forcing_filenames_list = [file.name for file in Path(forcing_path).iterdir()]\n",
    "    \n",
    "for forcing_name in forcing_filenames_list:\n",
    "    # read data and get time and coordinates\n",
    "    forcing = xr.open_dataset(forcing_path / forcing_name)\n",
    "    lon, lat, time =  get_forcing_info(forcing)\n",
    "    \n",
    "    # check site location on land sea mask\n",
    "    nearest_lon, nearest_lat = find_nearest_ERA5_land_point(lsm_dataset, lon, lat, 0.2)\n",
    "    \n",
    "    # get starting time\n",
    "    startyear = time.year.values[0]\n",
    "    endyear = startyear\n",
    "    startmonth = time.month.values[0]\n",
    "    startday = time.day.values[0]\n",
    "    starthour = time.hour.values[0]\n",
    "\n",
    "    # create area, note that era5 resolution is 0.1\n",
    "    # and we want only one grid cell\n",
    "    lat_max = nearest_lat + 0.001\n",
    "    lat_min = nearest_lat - 0.001\n",
    "    lon_max = nearest_lon + 0.001\n",
    "    lon_min = nearest_lon - 0.001\n",
    "\n",
    "    # create prefix for file name\n",
    "    station_name = forcing_name.split('_')[0]\n",
    "    timestamp = time.strftime('%Y%m%d_%H').values[0]\n",
    "    file_name = f\"{station_name}_{timestamp}\"\n",
    "\n",
    "    # download data\n",
    "    !era5cli hourly --variables soil_temperature_level_1 soil_temperature_level_2 soil_temperature_level_3 soil_temperature_level_4 \\\n",
    "    volumetric_soil_water_layer_1 volumetric_soil_water_layer_2 volumetric_soil_water_layer_3 volumetric_soil_water_layer_4 skin_temperature \\\n",
    "    --startyear {startyear} --endyear {endyear} --land \\\n",
    "    --area {lat_max} {lon_min} {lat_min} {lon_max} \\\n",
    "    --months {startmonth} --days {startday} --hours {starthour} --outputprefix {file_name} --merge"
   ]
  },
  {
   "cell_type": "code",
   "execution_count": null,
   "metadata": {},
   "outputs": [],
   "source": []
  }
 ],
 "metadata": {
  "kernelspec": {
   "display_name": "Python 3 (ipykernel)",
   "language": "python",
   "name": "python3"
  },
  "language_info": {
   "codemirror_mode": {
    "name": "ipython",
    "version": 3
   },
   "file_extension": ".py",
   "mimetype": "text/x-python",
   "name": "python",
   "nbconvert_exporter": "python",
   "pygments_lexer": "ipython3",
   "version": "3.9.12"
  }
 },
 "nbformat": 4,
 "nbformat_minor": 4
}
